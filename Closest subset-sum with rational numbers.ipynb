{
 "cells": [
  {
   "cell_type": "markdown",
   "metadata": {
    "collapsed": false
   },
   "source": [
    "# Closest subset-sum with rational numbers"
   ]
  },
  {
   "cell_type": "code",
   "execution_count": 1,
   "metadata": {
    "collapsed": false
   },
   "outputs": [],
   "source": [
    "# Data wrangling\n",
    "import pandas as pd\n",
    "\n",
    "# ClosestSubsetSum class\n",
    "import datetime\n",
    "import logging\n",
    "from itertools import chain, combinations"
   ]
  },
  {
   "cell_type": "code",
   "execution_count": null,
   "metadata": {
    "collapsed": false
   },
   "outputs": [],
   "source": [
    "name = \"planilha plan 2023\"\n",
    "in_path = \"data/\" + name + \".xlsx\"\n",
    "\n",
    "df = pd.read_excel(in_path, engine=\"openpyxl\")\n",
    "df"
   ]
  },
  {
   "cell_type": "code",
   "execution_count": 3,
   "metadata": {
    "collapsed": false
   },
   "outputs": [],
   "source": [
    "class ClosestSubsetSum:\n",
    "    def __init__(self, array: pd.Series, depth=None, target=None):\n",
    "        if depth:\n",
    "            self.depth = min(depth, len(array))\n",
    "        else:\n",
    "            self.depth = len(array)\n",
    "        self.array = array.dropna().sort_values(ascending=False).iloc[:depth]\n",
    "        self._solvers = {\"naive\": self.naive}\n",
    "        self.best_combination = None\n",
    "        self.best_sum = 0\n",
    "        if target:\n",
    "            self.target = target\n",
    "        else:\n",
    "            self.target = self.array.sum() * 0.7\n",
    "\n",
    "    @staticmethod\n",
    "    def timed(solver):\n",
    "        def time_summary(*args, **kwargs):\n",
    "            start = datetime.datetime.now()\n",
    "            print(\n",
    "                f\"Execution started at \"\n",
    "                f\"{start - datetime.timedelta(microseconds = start.microsecond)}\"\n",
    "            )\n",
    "            solver(*args, **kwargs)\n",
    "            end = datetime.datetime.now()\n",
    "            print(\n",
    "                f\"Execution ended at \"\n",
    "                f\"{end - datetime.timedelta(microseconds = end.microsecond)}\"\n",
    "            )\n",
    "            print(f\"Runtime: {end-start}\")\n",
    "\n",
    "        return time_summary\n",
    "\n",
    "    def solve(self, solver_name=\"naive\", verbose=True, tolerance=0):\n",
    "        if solver_name not in self._solvers:\n",
    "            print(f\"Method '{solver_name}' undefined\")\n",
    "            return\n",
    "        if verbose:\n",
    "            return self.timed(self._solvers[solver_name])(tolerance)\n",
    "        else:\n",
    "            return self._solvers[solver_name](tolerance)\n",
    "\n",
    "    def naive(self, tolerance: float):\n",
    "        def powerset(a):\n",
    "            return chain.from_iterable(combinations(a, r) for r in range(len(a) + 1))\n",
    "\n",
    "        num_combinations = 2 ** len(self.array)\n",
    "        threshold = self.target * (1 - tolerance)\n",
    "\n",
    "        logging.critical(\n",
    "            f\"Number of combinations: {num_combinations} \"\n",
    "            f\"Target: {self.target:.2f} \"\n",
    "            f\"Tolerance: {tolerance}\"\n",
    "        )\n",
    "        logging.critical(\"*\" * 40)\n",
    "\n",
    "        for i, combination in enumerate(powerset(self.array)):\n",
    "            combo_sum = 0\n",
    "            progress = f\"Progress: {i*100/num_combinations:.2f}% \"\n",
    "\n",
    "            for num in combination:\n",
    "                combo_sum += num\n",
    "            if self.target >= combo_sum >= self.best_sum:\n",
    "                self.best_sum = combo_sum\n",
    "                self.best_combination = combination\n",
    "\n",
    "                logging.critical(\n",
    "                    progress + f\"Error: {self.target-self.best_sum:.2f}\\n\"\n",
    "                    f\"{self.best_combination}\"\n",
    "                )\n",
    "            # Stop criteria\n",
    "            if threshold <= self.best_sum:\n",
    "                break\n",
    "        logging.critical(\"*\" * 40)"
   ]
  },
  {
   "cell_type": "code",
   "execution_count": null,
   "metadata": {
    "collapsed": false
   },
   "outputs": [],
   "source": [
    "tar = 30012429.20\n",
    "tol = 0\n",
    "\n",
    "logging.basicConfig(\n",
    "    filename=\"logs/\" + name + f\" (naive, {tol}).log\",\n",
    "    filemode=\"w\",\n",
    "    level=logging.CRITICAL,\n",
    "    force=True,\n",
    "    format=\"[%(asctime)s] %(message)s\",\n",
    "    datefmt=\"%d-%b-%y %H:%M:%S\",\n",
    ")\n",
    "\n",
    "css = ClosestSubsetSum(df[\"Valor\"], target=tar)\n",
    "css.solve(tolerance=tol)\n",
    "\n",
    "logging.shutdown()"
   ]
  },
  {
   "cell_type": "code",
   "execution_count": null,
   "metadata": {
    "collapsed": false
   },
   "outputs": [],
   "source": [
    "mask = df.Valor.isin(css.best_combination)\n",
    "\n",
    "cell_sum = \"Sum = \" + str(df.Valor[mask].sum())\n",
    "cell_error = str(round(tar - df.Valor[mask].sum(), 2))\n",
    "\n",
    "df[cell_sum] = 0\n",
    "df.loc[mask, cell_sum] = 1\n",
    "df.iloc[0, -1] = \"Error = \" + cell_error\n",
    "\n",
    "df"
   ]
  },
  {
   "cell_type": "code",
   "execution_count": null,
   "metadata": {
    "collapsed": false
   },
   "outputs": [],
   "source": [
    "# Checksum\n",
    "df.Valor[mask].sum(), css.best_sum"
   ]
  },
  {
   "cell_type": "code",
   "execution_count": null,
   "metadata": {
    "collapsed": false
   },
   "outputs": [],
   "source": [
    "out_path = \"data/\" + name + f\" (naive, {tol}, {cell_error}).xlsx\"\n",
    "df.to_excel(out_path)"
   ]
  }
 ],
 "metadata": {
  "kernelspec": {
   "display_name": "Python 3",
   "language": "python",
   "name": "python3"
  },
  "language_info": {
   "codemirror_mode": {
    "name": "ipython",
    "version": 2
   },
   "file_extension": ".py",
   "mimetype": "text/x-python",
   "name": "python",
   "nbconvert_exporter": "python",
   "pygments_lexer": "ipython2",
   "version": "2.7.6"
  }
 },
 "nbformat": 4,
 "nbformat_minor": 0
}
